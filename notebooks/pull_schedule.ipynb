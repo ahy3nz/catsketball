{
 "cells": [
  {
   "cell_type": "code",
   "execution_count": 1,
   "id": "726858b5-2baf-4413-a57b-0322ec5c04a6",
   "metadata": {},
   "outputs": [],
   "source": [
    "from espn_api.basketball import League\n",
    "from collections import defaultdict\n",
    "import pandas as pd\n",
    "\n",
    "league = League(\n",
    "    league_id=136397, year=2023,\n",
    "    espn_s2='',\n",
    "    swid=''\n",
    ")"
   ]
  },
  {
   "cell_type": "markdown",
   "id": "04792a50-46b1-4944-9593-f1d81368c64b",
   "metadata": {},
   "source": [
    "# Professional schedules"
   ]
  },
  {
   "cell_type": "code",
   "execution_count": 3,
   "id": "30bb67ae-63e9-4aca-acb4-35a6b896211c",
   "metadata": {},
   "outputs": [],
   "source": [
    "import datetime\n",
    "all_schedules = {}\n",
    "\n",
    "for scoring_id in range(1, 175):\n",
    "    days_matchups = league._get_pro_schedule(scoring_id)\n",
    "    for team_a, (team_b, timestamp) in days_matchups.items():\n",
    "        date_object = (\n",
    "            datetime.datetime.fromtimestamp(timestamp/1000)\n",
    "            #.strftime(\"%Y-%m-%d\")\n",
    "        )\n",
    "        if team_a not in all_schedules:\n",
    "            all_schedules[team_a] = {}\n",
    "        all_schedules[team_a][date_object] = 1"
   ]
  },
  {
   "cell_type": "code",
   "execution_count": 4,
   "id": "8e7c8d0e-20a9-435f-8dec-d3d74cd67b36",
   "metadata": {},
   "outputs": [],
   "source": [
    "pro_schedules = pd.DataFrame(all_schedules).sort_index()"
   ]
  },
  {
   "cell_type": "code",
   "execution_count": 6,
   "id": "954ab9c9-25e2-4edd-ab34-4e7f1fa2a645",
   "metadata": {},
   "outputs": [],
   "source": [
    "pro_schedules.fillna(0.0).to_csv(\"../catsketball/staticdata/nba_schedule.csv\")"
   ]
  },
  {
   "cell_type": "code",
   "execution_count": 7,
   "id": "8675b466-b59e-4cf7-bbf5-50b17bec175a",
   "metadata": {},
   "outputs": [],
   "source": [
    "temp = pd.read_csv(\"../catsketball/staticdata/nba_schedule.csv\", index_col=0, parse_dates=True)"
   ]
  },
  {
   "cell_type": "code",
   "execution_count": 8,
   "id": "5666f89d-94e4-4c6e-9fd1-0fbeae6cd5db",
   "metadata": {},
   "outputs": [
    {
     "data": {
      "text/plain": [
       "DatetimeIndex(['2022-10-18 19:30:00', '2022-10-18 22:00:00',\n",
       "               '2022-10-19 19:00:00', '2022-10-19 19:30:00',\n",
       "               '2022-10-19 20:00:00', '2022-10-19 21:00:00',\n",
       "               '2022-10-19 22:00:00', '2022-10-20 19:30:00',\n",
       "               '2022-10-20 22:00:00', '2022-10-21 19:00:00',\n",
       "               ...\n",
       "               '2023-04-06 21:00:00', '2023-04-06 22:00:00',\n",
       "               '2023-04-07 19:00:00', '2023-04-07 19:30:00',\n",
       "               '2023-04-07 20:00:00', '2023-04-07 20:30:00',\n",
       "               '2023-04-07 22:00:00', '2023-04-07 22:30:00',\n",
       "               '2023-04-08 15:30:00', '2023-04-08 16:00:00'],\n",
       "              dtype='datetime64[ns]', length=770, freq=None)"
      ]
     },
     "execution_count": 8,
     "metadata": {},
     "output_type": "execute_result"
    }
   ],
   "source": [
    "pro_schedules.index"
   ]
  },
  {
   "cell_type": "code",
   "execution_count": 12,
   "id": "a7018d80-1f41-4800-988e-1265bc787289",
   "metadata": {},
   "outputs": [
    {
     "data": {
      "text/plain": [
       "27"
      ]
     },
     "execution_count": 12,
     "metadata": {},
     "output_type": "execute_result"
    }
   ],
   "source": [
    "# Some manual cleaning required ot sanitize team names\n",
    "team_id_name_mapping = {}\n",
    "for team in data['settings']['proTeams']:\n",
    "    team_id_name_mapping[team['id']] = team['abbrev'].upper()\n",
    "    team_id_name_mapping[team['abbrev'].upper()] = team['id']\n",
    "team_id_name_mapping[18] = 'NYK'\n",
    "team_id_name_mapping['NYK'] = 18\n",
    "\n",
    "team_id_name_mapping[20] = 'PHL'\n",
    "team_id_name_mapping['PHL'] = 20\n",
    "\n",
    "team_id_name_mapping[9] = 'GSW'\n",
    "team_id_name_mapping['GSW'] = 9\n",
    "\n",
    "team_id_name_mapping[21] = 'PHO'\n",
    "team_id_name_mapping['PHO'] = 21\n",
    "\n",
    "team_id_name_mapping[24] = 'SAS'\n",
    "team_id_name_mapping['SAS'] = 24\n",
    "\n",
    "team_id_name_mapping[3] = 'NOP'\n",
    "team_id_name_mapping['NOP'] = 3\n",
    "\n",
    "team_id_name_mapping[26] = 'UTA'\n",
    "team_id_name_mapping['UTA'] = 26\n",
    "\n",
    "team_id_name_mapping[27] = 'WAS'\n",
    "team_id_name_mapping['WAS'] = 27\n",
    "\n",
    "\n",
    "team_id_name_mapping.pop(\"NY\")\n",
    "team_id_name_mapping.pop(\"PHI\")\n",
    "team_id_name_mapping.pop(\"GS\")\n",
    "team_id_name_mapping.pop(\"PHX\")\n",
    "team_id_name_mapping.pop(\"SA\")\n",
    "team_id_name_mapping.pop(\"NO\")\n",
    "team_id_name_mapping.pop(\"UTAH\")\n",
    "team_id_name_mapping.pop(\"WSH\")"
   ]
  },
  {
   "cell_type": "code",
   "execution_count": 13,
   "id": "f63f5d81-df1f-4702-933f-46edccda2019",
   "metadata": {},
   "outputs": [
    {
     "data": {
      "text/plain": [
       "{11: 'IND',\n",
       " 'IND': 11,\n",
       " 12: 'LAC',\n",
       " 'LAC': 12,\n",
       " 13: 'LAL',\n",
       " 'LAL': 13,\n",
       " 14: 'MIA',\n",
       " 'MIA': 14,\n",
       " 15: 'MIL',\n",
       " 'MIL': 15,\n",
       " 16: 'MIN',\n",
       " 'MIN': 16,\n",
       " 17: 'BKN',\n",
       " 'BKN': 17,\n",
       " 18: 'NYK',\n",
       " 19: 'ORL',\n",
       " 'ORL': 19,\n",
       " 20: 'PHL',\n",
       " 21: 'PHO',\n",
       " 22: 'POR',\n",
       " 'POR': 22,\n",
       " 23: 'SAC',\n",
       " 'SAC': 23,\n",
       " 24: 'SAS',\n",
       " 25: 'OKC',\n",
       " 'OKC': 25,\n",
       " 26: 'UTA',\n",
       " 27: 'WAS',\n",
       " 28: 'TOR',\n",
       " 'TOR': 28,\n",
       " 29: 'MEM',\n",
       " 'MEM': 29,\n",
       " 30: 'CHA',\n",
       " 'CHA': 30,\n",
       " 0: 'FA',\n",
       " 'FA': 0,\n",
       " 1: 'ATL',\n",
       " 'ATL': 1,\n",
       " 2: 'BOS',\n",
       " 'BOS': 2,\n",
       " 3: 'NOP',\n",
       " 4: 'CHI',\n",
       " 'CHI': 4,\n",
       " 5: 'CLE',\n",
       " 'CLE': 5,\n",
       " 6: 'DAL',\n",
       " 'DAL': 6,\n",
       " 7: 'DEN',\n",
       " 'DEN': 7,\n",
       " 8: 'DET',\n",
       " 'DET': 8,\n",
       " 9: 'GSW',\n",
       " 10: 'HOU',\n",
       " 'HOU': 10,\n",
       " 'NYK': 18,\n",
       " 'PHL': 20,\n",
       " 'GSW': 9,\n",
       " 'PHO': 21,\n",
       " 'SAS': 24,\n",
       " 'NOP': 3,\n",
       " 'UTA': 26,\n",
       " 'WAS': 27}"
      ]
     },
     "execution_count": 13,
     "metadata": {},
     "output_type": "execute_result"
    }
   ],
   "source": [
    "team_id_name_mapping"
   ]
  },
  {
   "cell_type": "code",
   "execution_count": 14,
   "id": "bb8cedf9-8dc0-4c87-8a03-e434ebdb9a25",
   "metadata": {},
   "outputs": [],
   "source": [
    "sorted_dictionary = dict(sorted(team_id_name_mapping.items(), key=lambda x: str(x[0])))"
   ]
  },
  {
   "cell_type": "code",
   "execution_count": 131,
   "id": "23f8900d-8570-4b82-9ec5-14ef18f1da59",
   "metadata": {},
   "outputs": [],
   "source": [
    "import yaml\n",
    "with open(\"../catsketball/staticdata/team_id_mappings.yaml\", 'w') as f:\n",
    "    f.write(yaml.dump(sorted_dictionary))"
   ]
  },
  {
   "cell_type": "code",
   "execution_count": null,
   "id": "01de9fba-5b1e-45fc-965d-2afded5da4d8",
   "metadata": {},
   "outputs": [],
   "source": []
  }
 ],
 "metadata": {
  "kernelspec": {
   "display_name": "Python 3 (ipykernel)",
   "language": "python",
   "name": "python3"
  },
  "language_info": {
   "codemirror_mode": {
    "name": "ipython",
    "version": 3
   },
   "file_extension": ".py",
   "mimetype": "text/x-python",
   "name": "python",
   "nbconvert_exporter": "python",
   "pygments_lexer": "ipython3",
   "version": "3.10.6"
  }
 },
 "nbformat": 4,
 "nbformat_minor": 5
}
